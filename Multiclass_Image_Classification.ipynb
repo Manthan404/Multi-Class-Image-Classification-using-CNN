{
  "nbformat": 4,
  "nbformat_minor": 0,
  "metadata": {
    "colab": {
      "provenance": []
    },
    "kernelspec": {
      "name": "python3",
      "display_name": "Python 3"
    },
    "language_info": {
      "name": "python"
    },
    "accelerator": "GPU"
  },
  "cells": [
    {
      "cell_type": "markdown",
      "source": [
        "##**Loading Libraries & Data**"
      ],
      "metadata": {
        "id": "dbdnDXZ90H9W"
      }
    },
    {
      "cell_type": "code",
      "source": [
        "from google.colab import files\n",
        "import os\n",
        "import random\n",
        "from shutil import copyfile\n",
        "import pandas as pd\n",
        "import numpy as np\n",
        "from keras.preprocessing.image import load_img, img_to_array"
      ],
      "metadata": {
        "id": "befF4FLoi8EW"
      },
      "execution_count": 1,
      "outputs": []
    },
    {
      "cell_type": "code",
      "source": [
        "from google.colab import drive\n",
        "drive.mount('/content/drive')"
      ],
      "metadata": {
        "colab": {
          "base_uri": "https://localhost:8080/"
        },
        "id": "GLMQ2rSejHQL",
        "outputId": "33e5ff91-bbcb-4261-96b3-a28e1086c8b5"
      },
      "execution_count": 2,
      "outputs": [
        {
          "output_type": "stream",
          "name": "stdout",
          "text": [
            "Mounted at /content/drive\n"
          ]
        }
      ]
    },
    {
      "cell_type": "code",
      "source": [
        "# Unzipping training data\n",
        "from zipfile import ZipFile\n",
        "file_name = \"/content/drive/MyDrive/Artificial Neurons.AI/Healthcare-images-classification-20221006T055456Z-001.zip\"\n",
        "with ZipFile(file_name, 'r') as zip:\n",
        "  zip.extractall()\n",
        "  print('done')"
      ],
      "metadata": {
        "colab": {
          "base_uri": "https://localhost:8080/"
        },
        "id": "wTs-GGSokkR4",
        "outputId": "834a5662-3f4a-48c3-8ec2-3a048b75db52"
      },
      "execution_count": 3,
      "outputs": [
        {
          "output_type": "stream",
          "name": "stdout",
          "text": [
            "done\n"
          ]
        }
      ]
    },
    {
      "cell_type": "code",
      "source": [
        "import warnings\n",
        "warnings.filterwarnings('ignore')\n",
        "# Get all the paths\n",
        "data_dir_list = os.listdir('/content/Healthcare-images-classification')\n",
        "print(data_dir_list)\n",
        "path, dirs, files = next(os.walk(\"/content/Healthcare-images-classification\"))\n",
        "file_count = len(files)\n",
        "# print(file_count)"
      ],
      "metadata": {
        "colab": {
          "base_uri": "https://localhost:8080/"
        },
        "id": "zeMfp9OClm_m",
        "outputId": "5fc0a28c-0413-4209-929b-9f2e7af7b376"
      },
      "execution_count": 4,
      "outputs": [
        {
          "output_type": "stream",
          "name": "stdout",
          "text": [
            "['X-Ray', 'ECG', 'Presciption', 'Report']\n"
          ]
        }
      ]
    },
    {
      "cell_type": "code",
      "source": [
        "# Making new base directory\n",
        "original_dataset_dir = '/content/Healthcare-images-classification'\n",
        "base_dir = '/content/healthcare-data/'\n",
        "os.mkdir(base_dir)"
      ],
      "metadata": {
        "id": "KQewItTSmFcd"
      },
      "execution_count": 5,
      "outputs": []
    },
    {
      "cell_type": "code",
      "source": [
        "#creating two folders (train and validation)\n",
        "train_dir = os.path.join(base_dir, 'train')\n",
        "os.mkdir(train_dir)\n",
        "\n",
        "validation_dir = os.path.join(base_dir, 'validation')\n",
        "os.mkdir(validation_dir)\n",
        "\n",
        "#Under train folder creating four folders \n",
        "# (ECG, Prescription, Report, X-Ray)\n",
        "\n",
        "train_ecg_dir = os.path.join(train_dir, 'ECG')\n",
        "os.mkdir(train_ecg_dir)\n",
        "\n",
        "train_prescription_dir = os.path.join(train_dir, 'Prescription')\n",
        "os.mkdir(train_prescription_dir)\n",
        "\n",
        "train_report_dir = os.path.join(train_dir, 'Report')\n",
        "os.mkdir(train_report_dir)\n",
        "\n",
        "train_xray_dir = os.path.join(train_dir, 'X-Ray')\n",
        "os.mkdir(train_xray_dir)\n",
        "\n",
        "#Under validation folder creating four folders \n",
        "# (ECG, Prescription, Report, X-Ray)\n",
        "\n",
        "validation_ecg_dir = os.path.join(validation_dir, 'ECG')\n",
        "os.mkdir(validation_ecg_dir)\n",
        "\n",
        "validation_prescription_dir = os.path.join(validation_dir, 'Prescription')\n",
        "os.mkdir(validation_prescription_dir)\n",
        "\n",
        "validation_report_dir = os.path.join(validation_dir, 'Report')\n",
        "os.mkdir(validation_report_dir)\n",
        "\n",
        "validation_xray_dir = os.path.join(validation_dir, 'X-Ray')\n",
        "os.mkdir(validation_xray_dir)\n"
      ],
      "metadata": {
        "id": "XQt8R_OhmV1i"
      },
      "execution_count": 6,
      "outputs": []
    },
    {
      "cell_type": "code",
      "source": [
        "#Function to split images\n",
        "def split_data(SOURCE, TRAINING, VALIDATION, SPLIT_SIZE):\n",
        "    files = []\n",
        "    for filename in os.listdir(SOURCE):\n",
        "        file = SOURCE + filename\n",
        "        if os.path.getsize(file) > 0:\n",
        "            files.append(filename)\n",
        "        else:\n",
        "            print(filename + \" is zero length, so ignoring.\")\n",
        "\n",
        "    training_length = int(len(files) * SPLIT_SIZE)\n",
        "    valid_length = int(len(files) - training_length)\n",
        "    shuffled_set = random.sample(files, len(files))\n",
        "    training_set = shuffled_set[0:training_length]\n",
        "    valid_set = shuffled_set[training_length:]\n",
        "\n",
        "    for filename in training_set:\n",
        "        this_file = SOURCE + filename\n",
        "        destination = TRAINING + filename\n",
        "        copyfile(this_file, destination)\n",
        "\n",
        "    for filename in valid_set:\n",
        "        this_file = SOURCE + filename\n",
        "        destination = VALIDATION + filename\n",
        "        copyfile(this_file, destination)"
      ],
      "metadata": {
        "id": "MBJTNVC5nt_J"
      },
      "execution_count": 7,
      "outputs": []
    },
    {
      "cell_type": "code",
      "source": [
        "ECG_SOURCE_DIR = '/content/Healthcare-images-classification/ECG/'\n",
        "TRAINING_ECG_DIR = '/content/healthcare-data/train/ECG/'\n",
        "VALID_ECG_DIR = '/content/healthcare-data/validation/ECG/'\n",
        "\n",
        "PRESCRIPTION_SOURCE_DIR = '/content/Healthcare-images-classification/Presciption/'\n",
        "TRAINING_PRESCRIPTION_DIR = '/content/healthcare-data/train/Prescription/'\n",
        "VALID_PRESCRIPTION_DIR = '/content/healthcare-data/validation/Prescription/'\n",
        "\n",
        "REPORT_SOURCE_DIR = '/content/Healthcare-images-classification/Report/'\n",
        "TRAINING_REPORT_DIR = '/content/healthcare-data/train/Report/'\n",
        "VALID_REPORT_DIR = '/content/healthcare-data/validation/Report/'\n",
        "\n",
        "XRAY_SOURCE_DIR = '/content/Healthcare-images-classification/X-Ray/'\n",
        "TRAINING_XRAY_DIR = '/content/healthcare-data/train/X-Ray/'\n",
        "VALID_XRAY_DIR = '/content/healthcare-data/validation/X-Ray/'\n"
      ],
      "metadata": {
        "id": "nHTes0gDpFGc"
      },
      "execution_count": 8,
      "outputs": []
    },
    {
      "cell_type": "code",
      "source": [
        "split_size = .80\n",
        "\n",
        "split_data(ECG_SOURCE_DIR, TRAINING_ECG_DIR, VALID_ECG_DIR, split_size)\n",
        "split_data(PRESCRIPTION_SOURCE_DIR, TRAINING_PRESCRIPTION_DIR, VALID_PRESCRIPTION_DIR, split_size)\n",
        "split_data(REPORT_SOURCE_DIR, TRAINING_REPORT_DIR, VALID_REPORT_DIR, split_size)\n",
        "split_data(XRAY_SOURCE_DIR, TRAINING_XRAY_DIR, VALID_XRAY_DIR, split_size)"
      ],
      "metadata": {
        "id": "rkICXPrXrLNk"
      },
      "execution_count": 9,
      "outputs": []
    },
    {
      "cell_type": "code",
      "source": [
        "import matplotlib.pyplot as plt\n",
        "import seaborn as sns\n",
        "from matplotlib.image import imread\n",
        "import pathlib\n",
        "\n",
        "image_folder = ['ECG', 'Prescription', 'Report', 'X-Ray']\n",
        "nimgs = {}\n",
        "for i in image_folder:\n",
        "    nimages = len(os.listdir('/content/healthcare-data/train/'+i+'/'))\n",
        "    nimgs[i]=nimages\n",
        "plt.figure(figsize=(9, 6))\n",
        "plt.bar(range(len(nimgs)), list(nimgs.values()), align='center')\n",
        "plt.xticks(range(len(nimgs)), list(nimgs.keys()))\n",
        "plt.title('Distribution of different classes in Training Dataset')\n",
        "plt.show()"
      ],
      "metadata": {
        "colab": {
          "base_uri": "https://localhost:8080/",
          "height": 390
        },
        "id": "CZPlhxcHsW4U",
        "outputId": "ac089446-b657-4af5-948f-439048496edc"
      },
      "execution_count": 10,
      "outputs": [
        {
          "output_type": "display_data",
          "data": {
            "text/plain": [
              "<Figure size 648x432 with 1 Axes>"
            ],
            "image/png": "[encoded data removed]"
          },
          "metadata": {
            "needs_background": "light"
          }
        }
      ]
    },
    {
      "cell_type": "code",
      "source": [
        "for i in ['ECG', 'Prescription', 'Report', 'X-Ray']:\n",
        "    print('Training {} images are: '.format(i)+str(len(os.listdir('/content/healthcare-data/train/'+i+'/'))))"
      ],
      "metadata": {
        "colab": {
          "base_uri": "https://localhost:8080/"
        },
        "id": "rSHhE-GVsnKb",
        "outputId": "f3b412bd-208b-4915-e75d-5e9d6888cc67"
      },
      "execution_count": 11,
      "outputs": [
        {
          "output_type": "stream",
          "name": "stdout",
          "text": [
            "Training ECG images are: 1\n",
            "Training Prescription images are: 8\n",
            "Training Report images are: 62\n",
            "Training X-Ray images are: 8\n"
          ]
        }
      ]
    },
    {
      "cell_type": "code",
      "source": [
        "image_folder = ['ECG', 'Prescription', 'Report', 'X-Ray']\n",
        "nimgs = {}\n",
        "for i in image_folder:\n",
        "    nimages = len(os.listdir('/content/healthcare-data/validation/'+i+'/'))\n",
        "    nimgs[i]=nimages\n",
        "plt.figure(figsize=(9, 6))\n",
        "plt.bar(range(len(nimgs)), list(nimgs.values()), align='center')\n",
        "plt.xticks(range(len(nimgs)), list(nimgs.keys()))\n",
        "plt.title('Distribution of different classes in Validation Dataset')\n",
        "plt.show()"
      ],
      "metadata": {
        "colab": {
          "base_uri": "https://localhost:8080/",
          "height": 390
        },
        "id": "3Yo9bCbfuoor",
        "outputId": "2aa1b531-8d8a-4e74-c060-2654f51d14db"
      },
      "execution_count": 12,
      "outputs": [
        {
          "output_type": "display_data",
          "data": {
            "text/plain": [
              "<Figure size 648x432 with 1 Axes>"
            ],
            "image/png": "[encoded data removed]"
          },
          "metadata": {
            "needs_background": "light"
          }
        }
      ]
    },
    {
      "cell_type": "code",
      "source": [
        "for i in ['ECG', 'Prescription', 'Report', 'X-Ray']:\n",
        "    print('Valid {} images are: '.format(i)+str(len(os.listdir('/content/healthcare-data/validation/'+i+'/'))))"
      ],
      "metadata": {
        "colab": {
          "base_uri": "https://localhost:8080/"
        },
        "id": "j3oUZNfdu3vb",
        "outputId": "a2acb312-09b6-468b-9804-3b18459c672c"
      },
      "execution_count": 13,
      "outputs": [
        {
          "output_type": "stream",
          "name": "stdout",
          "text": [
            "Valid ECG images are: 1\n",
            "Valid Prescription images are: 3\n",
            "Valid Report images are: 16\n",
            "Valid X-Ray images are: 2\n"
          ]
        }
      ]
    },
    {
      "cell_type": "markdown",
      "source": [
        "##**Data Augmentation**"
      ],
      "metadata": {
        "id": "4-6cmt51vEW4"
      }
    },
    {
      "cell_type": "code",
      "source": [
        "from tensorflow.keras.optimizers import Adam\n",
        "from tensorflow.keras.preprocessing.image import ImageDataGenerator\n",
        "from tensorflow.keras.layers import Conv2D, MaxPooling2D, Flatten, Dense, Dropout\n",
        "from tensorflow.keras.models import Sequential\n",
        "from tensorflow.keras.callbacks import EarlyStopping, ModelCheckpoint"
      ],
      "metadata": {
        "id": "Q7XbUOe4vApG"
      },
      "execution_count": 14,
      "outputs": []
    },
    {
      "cell_type": "code",
      "source": [
        "img_width=256; img_height=256\n",
        "batch_size=16"
      ],
      "metadata": {
        "id": "WC5agF8pvR1h"
      },
      "execution_count": 15,
      "outputs": []
    },
    {
      "cell_type": "code",
      "source": [
        "TRAINING_DIR = '/content/healthcare-data/train/'\n",
        "\n",
        "train_datagen = ImageDataGenerator(rescale = 1/255.0,\n",
        "                                   rotation_range=30,\n",
        "                                   zoom_range=0.4,\n",
        "                                   horizontal_flip=True)\n",
        "\n",
        "train_generator = train_datagen.flow_from_directory(TRAINING_DIR,\n",
        "                                                    batch_size=batch_size,\n",
        "                                                    class_mode='categorical',\n",
        "                                                    target_size=(img_height, img_width))"
      ],
      "metadata": {
        "colab": {
          "base_uri": "https://localhost:8080/"
        },
        "id": "OlihIZGqwCwr",
        "outputId": "855bb6f8-4c43-457b-c115-596b8003518e"
      },
      "execution_count": 16,
      "outputs": [
        {
          "output_type": "stream",
          "name": "stdout",
          "text": [
            "Found 79 images belonging to 4 classes.\n"
          ]
        }
      ]
    },
    {
      "cell_type": "code",
      "source": [
        "VALIDATION_DIR = '/content/healthcare-data/validation/'\n",
        "\n",
        "validation_datagen = ImageDataGenerator(rescale = 1/255.0)\n",
        "\n",
        "validation_generator = validation_datagen.flow_from_directory(VALIDATION_DIR,\n",
        "                                                              batch_size=batch_size,\n",
        "                                                              class_mode='categorical',\n",
        "                                                              target_size=(img_height, img_width)\n",
        "                                                             )"
      ],
      "metadata": {
        "colab": {
          "base_uri": "https://localhost:8080/"
        },
        "id": "FCmzZ8CXwJ_E",
        "outputId": "cc0a8ccf-dfe4-40cf-cd7e-f24b106a2171"
      },
      "execution_count": 17,
      "outputs": [
        {
          "output_type": "stream",
          "name": "stdout",
          "text": [
            "Found 22 images belonging to 4 classes.\n"
          ]
        }
      ]
    },
    {
      "cell_type": "markdown",
      "source": [
        "##**CNN Model**"
      ],
      "metadata": {
        "id": "dD6C501O2qhf"
      }
    },
    {
      "cell_type": "code",
      "source": [
        "callbacks = EarlyStopping(monitor='val_loss', patience=5, verbose=1, mode='auto')\n",
        "# autosave best Model\n",
        "best_model_file = '/content/CNN_aug_best_weights.h5'\n",
        "best_model = ModelCheckpoint(best_model_file, monitor='val_accuracy', verbose = 1, save_best_only = True)"
      ],
      "metadata": {
        "id": "c72stJKbwgCY"
      },
      "execution_count": 18,
      "outputs": []
    },
    {
      "cell_type": "code",
      "source": [
        "model = Sequential([\n",
        "    Conv2D(16, (3, 3), activation='relu', input_shape=(img_height, img_width, 3)), MaxPooling2D(2, 2),\n",
        "    Conv2D(32, (3, 3), activation='relu'), MaxPooling2D(2, 2),\n",
        "    Conv2D(64, (3, 3), activation='relu'),\n",
        "    Conv2D(64, (3, 3), activation='relu'),\n",
        "    MaxPooling2D(2, 2),\n",
        "    Conv2D(128, (3, 3), activation='relu'),\n",
        "    Conv2D(128, (3, 3), activation='relu'),\n",
        "    MaxPooling2D(2, 2),\n",
        "    Conv2D(256, (3, 3), activation='relu'),\n",
        "    Conv2D(256, (3, 3), activation='relu'),\n",
        "    Conv2D(256, (3, 3), activation='relu'),\n",
        "    MaxPooling2D(2, 2),\n",
        "    Flatten(),\n",
        "    Dense(512, activation='relu'),\n",
        "    Dense(512, activation='relu'),\n",
        "    Dense(4, activation='softmax')\n",
        "])\n",
        "model.summary()"
      ],
      "metadata": {
        "colab": {
          "base_uri": "https://localhost:8080/"
        },
        "id": "gruhmuonwkOU",
        "outputId": "715ad166-259f-4824-f892-62e3b016c310"
      },
      "execution_count": 19,
      "outputs": [
        {
          "output_type": "stream",
          "name": "stdout",
          "text": [
            "Model: \"sequential\"\n",
            "_________________________________________________________________\n",
            " Layer (type)                Output Shape              Param #   \n",
            "=================================================================\n",
            " conv2d (Conv2D)             (None, 254, 254, 16)      448       \n",
            "                                                                 \n",
            " max_pooling2d (MaxPooling2D  (None, 127, 127, 16)     0         \n",
            " )                                                               \n",
            "                                                                 \n",
            " conv2d_1 (Conv2D)           (None, 125, 125, 32)      4640      \n",
            "                                                                 \n",
            " max_pooling2d_1 (MaxPooling  (None, 62, 62, 32)       0         \n",
            " 2D)                                                             \n",
            "                                                                 \n",
            " conv2d_2 (Conv2D)           (None, 60, 60, 64)        18496     \n",
            "                                                                 \n",
            " conv2d_3 (Conv2D)           (None, 58, 58, 64)        36928     \n",
            "                                                                 \n",
            " max_pooling2d_2 (MaxPooling  (None, 29, 29, 64)       0         \n",
            " 2D)                                                             \n",
            "                                                                 \n",
            " conv2d_4 (Conv2D)           (None, 27, 27, 128)       73856     \n",
            "                                                                 \n",
            " conv2d_5 (Conv2D)           (None, 25, 25, 128)       147584    \n",
            "                                                                 \n",
            " max_pooling2d_3 (MaxPooling  (None, 12, 12, 128)      0         \n",
            " 2D)                                                             \n",
            "                                                                 \n",
            " conv2d_6 (Conv2D)           (None, 10, 10, 256)       295168    \n",
            "                                                                 \n",
            " conv2d_7 (Conv2D)           (None, 8, 8, 256)         590080    \n",
            "                                                                 \n",
            " conv2d_8 (Conv2D)           (None, 6, 6, 256)         590080    \n",
            "                                                                 \n",
            " max_pooling2d_4 (MaxPooling  (None, 3, 3, 256)        0         \n",
            " 2D)                                                             \n",
            "                                                                 \n",
            " flatten (Flatten)           (None, 2304)              0         \n",
            "                                                                 \n",
            " dense (Dense)               (None, 512)               1180160   \n",
            "                                                                 \n",
            " dense_1 (Dense)             (None, 512)               262656    \n",
            "                                                                 \n",
            " dense_2 (Dense)             (None, 4)                 2052      \n",
            "                                                                 \n",
            "=================================================================\n",
            "Total params: 3,202,148\n",
            "Trainable params: 3,202,148\n",
            "Non-trainable params: 0\n",
            "_________________________________________________________________\n"
          ]
        }
      ]
    },
    {
      "cell_type": "code",
      "source": [
        "model.compile(optimizer='Adam', \n",
        "              loss='categorical_crossentropy', \n",
        "              metrics =['accuracy'])"
      ],
      "metadata": {
        "id": "jADu2zkswoY9"
      },
      "execution_count": 20,
      "outputs": []
    },
    {
      "cell_type": "code",
      "source": [
        "history = model.fit_generator(train_generator,\n",
        "                              epochs=30,\n",
        "                              verbose=1,\n",
        "                              validation_data=validation_generator,\n",
        "                              callbacks = [best_model]\n",
        "                              )"
      ],
      "metadata": {
        "colab": {
          "base_uri": "https://localhost:8080/"
        },
        "id": "gd4OQFL7wrAG",
        "outputId": "4622a64a-8570-4f9c-e3f3-9b03a5b32048"
      },
      "execution_count": 21,
      "outputs": [
        {
          "output_type": "stream",
          "name": "stdout",
          "text": [
            "Epoch 1/30\n",
            "5/5 [==============================] - ETA: 0s - loss: 1.4730 - accuracy: 0.5949\n",
            "Epoch 1: val_accuracy improved from -inf to 0.72727, saving model to /content/CNN_aug_best_weights.h5\n",
            "5/5 [==============================] - 14s 672ms/step - loss: 1.4730 - accuracy: 0.5949 - val_loss: 1.2471 - val_accuracy: 0.7273\n",
            "Epoch 2/30\n",
            "5/5 [==============================] - ETA: 0s - loss: 1.2169 - accuracy: 0.7848\n",
            "Epoch 2: val_accuracy did not improve from 0.72727\n",
            "5/5 [==============================] - 3s 554ms/step - loss: 1.2169 - accuracy: 0.7848 - val_loss: 1.0366 - val_accuracy: 0.7273\n",
            "Epoch 3/30\n",
            "5/5 [==============================] - ETA: 0s - loss: 0.8314 - accuracy: 0.7848\n",
            "Epoch 3: val_accuracy did not improve from 0.72727\n",
            "5/5 [==============================] - 3s 557ms/step - loss: 0.8314 - accuracy: 0.7848 - val_loss: 1.0936 - val_accuracy: 0.7273\n",
            "Epoch 4/30\n",
            "5/5 [==============================] - ETA: 0s - loss: 0.7068 - accuracy: 0.7848\n",
            "Epoch 4: val_accuracy did not improve from 0.72727\n",
            "5/5 [==============================] - 3s 548ms/step - loss: 0.7068 - accuracy: 0.7848 - val_loss: 0.8585 - val_accuracy: 0.7273\n",
            "Epoch 5/30\n",
            "5/5 [==============================] - ETA: 0s - loss: 0.6872 - accuracy: 0.7848\n",
            "Epoch 5: val_accuracy did not improve from 0.72727\n",
            "5/5 [==============================] - 3s 540ms/step - loss: 0.6872 - accuracy: 0.7848 - val_loss: 0.9174 - val_accuracy: 0.7273\n",
            "Epoch 6/30\n",
            "5/5 [==============================] - ETA: 0s - loss: 0.6403 - accuracy: 0.7848\n",
            "Epoch 6: val_accuracy did not improve from 0.72727\n",
            "5/5 [==============================] - 3s 538ms/step - loss: 0.6403 - accuracy: 0.7848 - val_loss: 0.8222 - val_accuracy: 0.7273\n",
            "Epoch 7/30\n",
            "5/5 [==============================] - ETA: 0s - loss: 0.7241 - accuracy: 0.7848\n",
            "Epoch 7: val_accuracy did not improve from 0.72727\n",
            "5/5 [==============================] - 3s 548ms/step - loss: 0.7241 - accuracy: 0.7848 - val_loss: 0.7796 - val_accuracy: 0.7273\n",
            "Epoch 8/30\n",
            "5/5 [==============================] - ETA: 0s - loss: 0.5887 - accuracy: 0.7848\n",
            "Epoch 8: val_accuracy improved from 0.72727 to 0.77273, saving model to /content/CNN_aug_best_weights.h5\n",
            "5/5 [==============================] - 3s 598ms/step - loss: 0.5887 - accuracy: 0.7848 - val_loss: 0.9489 - val_accuracy: 0.7727\n",
            "Epoch 9/30\n",
            "5/5 [==============================] - ETA: 0s - loss: 0.6281 - accuracy: 0.8354\n",
            "Epoch 9: val_accuracy did not improve from 0.77273\n",
            "5/5 [==============================] - 3s 555ms/step - loss: 0.6281 - accuracy: 0.8354 - val_loss: 0.8751 - val_accuracy: 0.7727\n",
            "Epoch 10/30\n",
            "5/5 [==============================] - ETA: 0s - loss: 0.5673 - accuracy: 0.8608\n",
            "Epoch 10: val_accuracy did not improve from 0.77273\n",
            "5/5 [==============================] - 3s 576ms/step - loss: 0.5673 - accuracy: 0.8608 - val_loss: 0.7144 - val_accuracy: 0.7727\n",
            "Epoch 11/30\n",
            "5/5 [==============================] - ETA: 0s - loss: 0.4456 - accuracy: 0.8734\n",
            "Epoch 11: val_accuracy did not improve from 0.77273\n",
            "5/5 [==============================] - 3s 557ms/step - loss: 0.4456 - accuracy: 0.8734 - val_loss: 1.0001 - val_accuracy: 0.7727\n",
            "Epoch 12/30\n",
            "5/5 [==============================] - ETA: 0s - loss: 0.5704 - accuracy: 0.8228\n",
            "Epoch 12: val_accuracy did not improve from 0.77273\n",
            "5/5 [==============================] - 3s 556ms/step - loss: 0.5704 - accuracy: 0.8228 - val_loss: 1.2630 - val_accuracy: 0.7727\n",
            "Epoch 13/30\n",
            "5/5 [==============================] - ETA: 0s - loss: 0.5636 - accuracy: 0.8481\n",
            "Epoch 13: val_accuracy did not improve from 0.77273\n",
            "5/5 [==============================] - 3s 565ms/step - loss: 0.5636 - accuracy: 0.8481 - val_loss: 0.8460 - val_accuracy: 0.7727\n",
            "Epoch 14/30\n",
            "5/5 [==============================] - ETA: 0s - loss: 0.5965 - accuracy: 0.8734\n",
            "Epoch 14: val_accuracy did not improve from 0.77273\n",
            "5/5 [==============================] - 3s 554ms/step - loss: 0.5965 - accuracy: 0.8734 - val_loss: 0.8993 - val_accuracy: 0.7727\n",
            "Epoch 15/30\n",
            "5/5 [==============================] - ETA: 0s - loss: 0.5358 - accuracy: 0.8481\n",
            "Epoch 15: val_accuracy did not improve from 0.77273\n",
            "5/5 [==============================] - 3s 552ms/step - loss: 0.5358 - accuracy: 0.8481 - val_loss: 0.9760 - val_accuracy: 0.7727\n",
            "Epoch 16/30\n",
            "5/5 [==============================] - ETA: 0s - loss: 0.5187 - accuracy: 0.8608\n",
            "Epoch 16: val_accuracy did not improve from 0.77273\n",
            "5/5 [==============================] - 3s 551ms/step - loss: 0.5187 - accuracy: 0.8608 - val_loss: 0.7022 - val_accuracy: 0.7273\n",
            "Epoch 17/30\n",
            "5/5 [==============================] - ETA: 0s - loss: 0.5021 - accuracy: 0.8354\n",
            "Epoch 17: val_accuracy improved from 0.77273 to 0.81818, saving model to /content/CNN_aug_best_weights.h5\n",
            "5/5 [==============================] - 3s 590ms/step - loss: 0.5021 - accuracy: 0.8354 - val_loss: 0.7240 - val_accuracy: 0.8182\n",
            "Epoch 18/30\n",
            "5/5 [==============================] - ETA: 0s - loss: 0.4132 - accuracy: 0.8734\n",
            "Epoch 18: val_accuracy did not improve from 0.81818\n",
            "5/5 [==============================] - 3s 566ms/step - loss: 0.4132 - accuracy: 0.8734 - val_loss: 0.6312 - val_accuracy: 0.8182\n",
            "Epoch 19/30\n",
            "5/5 [==============================] - ETA: 0s - loss: 0.3757 - accuracy: 0.8861\n",
            "Epoch 19: val_accuracy did not improve from 0.81818\n",
            "5/5 [==============================] - 3s 558ms/step - loss: 0.3757 - accuracy: 0.8861 - val_loss: 0.6443 - val_accuracy: 0.8182\n",
            "Epoch 20/30\n",
            "5/5 [==============================] - ETA: 0s - loss: 0.3701 - accuracy: 0.8861\n",
            "Epoch 20: val_accuracy did not improve from 0.81818\n",
            "5/5 [==============================] - 4s 831ms/step - loss: 0.3701 - accuracy: 0.8861 - val_loss: 0.8271 - val_accuracy: 0.7727\n",
            "Epoch 21/30\n",
            "5/5 [==============================] - ETA: 0s - loss: 0.3651 - accuracy: 0.8734\n",
            "Epoch 21: val_accuracy did not improve from 0.81818\n",
            "5/5 [==============================] - 3s 543ms/step - loss: 0.3651 - accuracy: 0.8734 - val_loss: 0.9483 - val_accuracy: 0.7273\n",
            "Epoch 22/30\n",
            "5/5 [==============================] - ETA: 0s - loss: 0.3429 - accuracy: 0.8987\n",
            "Epoch 22: val_accuracy did not improve from 0.81818\n",
            "5/5 [==============================] - 3s 541ms/step - loss: 0.3429 - accuracy: 0.8987 - val_loss: 1.0201 - val_accuracy: 0.7273\n",
            "Epoch 23/30\n",
            "5/5 [==============================] - ETA: 0s - loss: 0.3586 - accuracy: 0.8861\n",
            "Epoch 23: val_accuracy did not improve from 0.81818\n",
            "5/5 [==============================] - 3s 613ms/step - loss: 0.3586 - accuracy: 0.8861 - val_loss: 0.9441 - val_accuracy: 0.7273\n",
            "Epoch 24/30\n",
            "5/5 [==============================] - ETA: 0s - loss: 0.3468 - accuracy: 0.8987\n",
            "Epoch 24: val_accuracy did not improve from 0.81818\n",
            "5/5 [==============================] - 3s 554ms/step - loss: 0.3468 - accuracy: 0.8987 - val_loss: 0.9326 - val_accuracy: 0.7727\n",
            "Epoch 25/30\n",
            "5/5 [==============================] - ETA: 0s - loss: 0.3776 - accuracy: 0.8734\n",
            "Epoch 25: val_accuracy did not improve from 0.81818\n",
            "5/5 [==============================] - 3s 557ms/step - loss: 0.3776 - accuracy: 0.8734 - val_loss: 0.8648 - val_accuracy: 0.7273\n",
            "Epoch 26/30\n",
            "5/5 [==============================] - ETA: 0s - loss: 0.3611 - accuracy: 0.8734\n",
            "Epoch 26: val_accuracy did not improve from 0.81818\n",
            "5/5 [==============================] - 3s 549ms/step - loss: 0.3611 - accuracy: 0.8734 - val_loss: 1.2402 - val_accuracy: 0.7727\n",
            "Epoch 27/30\n",
            "5/5 [==============================] - ETA: 0s - loss: 0.4778 - accuracy: 0.8734\n",
            "Epoch 27: val_accuracy did not improve from 0.81818\n",
            "5/5 [==============================] - 3s 561ms/step - loss: 0.4778 - accuracy: 0.8734 - val_loss: 1.2519 - val_accuracy: 0.6818\n",
            "Epoch 28/30\n",
            "5/5 [==============================] - ETA: 0s - loss: 0.4576 - accuracy: 0.8861\n",
            "Epoch 28: val_accuracy did not improve from 0.81818\n",
            "5/5 [==============================] - 3s 557ms/step - loss: 0.4576 - accuracy: 0.8861 - val_loss: 1.0463 - val_accuracy: 0.6818\n",
            "Epoch 29/30\n",
            "5/5 [==============================] - ETA: 0s - loss: 0.4962 - accuracy: 0.8481\n",
            "Epoch 29: val_accuracy did not improve from 0.81818\n",
            "5/5 [==============================] - 3s 569ms/step - loss: 0.4962 - accuracy: 0.8481 - val_loss: 1.0310 - val_accuracy: 0.6818\n",
            "Epoch 30/30\n",
            "5/5 [==============================] - ETA: 0s - loss: 0.3692 - accuracy: 0.8861\n",
            "Epoch 30: val_accuracy did not improve from 0.81818\n",
            "5/5 [==============================] - 3s 551ms/step - loss: 0.3692 - accuracy: 0.8861 - val_loss: 0.9323 - val_accuracy: 0.8182\n"
          ]
        }
      ]
    },
    {
      "cell_type": "code",
      "source": [
        "acc=history.history['accuracy']\n",
        "val_acc=history.history['val_accuracy']\n",
        "loss=history.history['loss']\n",
        "val_loss=history.history['val_loss']\n",
        "\n",
        "epochs=range(len(acc))\n",
        "\n",
        "fig = plt.figure(figsize=(14,7))\n",
        "plt.plot(epochs, acc, 'r', label=\"Training Accuracy\")\n",
        "plt.plot(epochs, val_acc, 'b', label=\"Validation Accuracy\")\n",
        "plt.xlabel('Epoch')\n",
        "plt.ylabel('Accuracy')\n",
        "plt.title('Training and validation accuracy')\n",
        "plt.legend(loc='lower right')\n",
        "plt.show()"
      ],
      "metadata": {
        "colab": {
          "base_uri": "https://localhost:8080/",
          "height": 458
        },
        "id": "Pz4F2kkMwug-",
        "outputId": "74f227f8-29ef-4231-ad63-6cc0a5ca77af"
      },
      "execution_count": 22,
      "outputs": [
        {
          "output_type": "display_data",
          "data": {
            "text/plain": [
              "<Figure size 1008x504 with 1 Axes>"
            ],
            "image/png": "[encoded data removed]"
          },
          "metadata": {
            "needs_background": "light"
          }
        }
      ]
    },
    {
      "cell_type": "code",
      "source": [
        "fig2 = plt.figure(figsize=(14,7))\n",
        "plt.plot(epochs, loss, 'r', label=\"Training Loss\")\n",
        "plt.plot(epochs, val_loss, 'b', label=\"Validation Loss\")\n",
        "plt.legend(loc='upper right')\n",
        "plt.xlabel('Epoch')\n",
        "plt.ylabel('Loss')\n",
        "plt.title('Training and validation loss')"
      ],
      "metadata": {
        "id": "FFWwoX2T4Iu0",
        "outputId": "994a0975-1c5a-4f47-9286-64f5f890f56f",
        "colab": {
          "base_uri": "https://localhost:8080/",
          "height": 475
        }
      },
      "execution_count": 23,
      "outputs": [
        {
          "output_type": "execute_result",
          "data": {
            "text/plain": [
              "Text(0.5, 1.0, 'Training and validation loss')"
            ]
          },
          "metadata": {},
          "execution_count": 23
        },
        {
          "output_type": "display_data",
          "data": {
            "text/plain": [
              "<Figure size 1008x504 with 1 Axes>"
            ],
            "image/png": "[encoded data removed]"
          },
          "metadata": {
            "needs_background": "light"
          }
        }
      ]
    },
    {
      "cell_type": "markdown",
      "source": [
        "**Our Model has achieved around 89% Accuracy Score**\n",
        "\n",
        "\n"
      ],
      "metadata": {
        "id": "urH1WDWZ8S3v"
      }
    }
  ]
}